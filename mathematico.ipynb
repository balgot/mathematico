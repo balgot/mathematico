{
 "cells": [
  {
   "cell_type": "markdown",
   "id": "3673a294-208e-41bc-8bd2-5ea9a88faf97",
   "metadata": {},
   "source": [
    "# Mathematico game"
   ]
  },
  {
   "cell_type": "markdown",
   "id": "411a1d8f-b8ad-42e0-b4c6-03eebd7cb67b",
   "metadata": {},
   "source": [
    "In the notebook, the usage of the package will be demostrated as well as it will offer to play the game interactively."
   ]
  },
  {
   "cell_type": "code",
   "execution_count": 1,
   "id": "77e40509-e6a5-4f5c-b116-adfa45ead02a",
   "metadata": {},
   "outputs": [],
   "source": [
    "from mathematico.game import Arena, Board, Mathematico, Player\n",
    "from mathematico.players import HumanPlayer, RandomPlayer, SimulationPlayer"
   ]
  },
  {
   "cell_type": "markdown",
   "id": "f38afa41-2541-42e3-b89b-182d8be4375e",
   "metadata": {
    "tags": []
   },
   "source": [
    "## Playing a game"
   ]
  },
  {
   "cell_type": "markdown",
   "id": "5190e392-7fa1-4466-9c31-b6935761d1a2",
   "metadata": {},
   "source": [
    "To create one mathematico game, you need to instantiate `Mathematico` class, and add a player - in this case a random players."
   ]
  },
  {
   "cell_type": "code",
   "execution_count": 2,
   "id": "746e3faa-5493-4bd7-9edc-30253189ae45",
   "metadata": {},
   "outputs": [],
   "source": [
    "players = [RandomPlayer(seed=i % 2) for i in range(4)]\n",
    "game = Mathematico(seed=0)  # with seed, always the same game will be played\n",
    "\n",
    "for player in players:\n",
    "    game.add_player(player)"
   ]
  },
  {
   "cell_type": "markdown",
   "id": "f586166c-3806-4d71-8b40-700007abe4df",
   "metadata": {},
   "source": [
    "After adding the player, method `Mathematico.play` will simulate one game and return a list of scores for each player in the order they were added. Optional parameter `verbose` controls, how much output will be shown from the game."
   ]
  },
  {
   "cell_type": "code",
   "execution_count": 3,
   "id": "ec88df35-5615-444e-96a5-95e9b6ea8889",
   "metadata": {},
   "outputs": [
    {
     "data": {
      "text/plain": [
       "[120, 80, 120, 80]"
      ]
     },
     "execution_count": 3,
     "metadata": {},
     "output_type": "execute_result"
    }
   ],
   "source": [
    "results = game.play()\n",
    "results"
   ]
  },
  {
   "cell_type": "markdown",
   "id": "57bf0fb9-6a53-4df6-8700-ba3f51c7a3c4",
   "metadata": {},
   "source": [
    "As each player has its own board, to show the final board of the best player, we can use:"
   ]
  },
  {
   "cell_type": "code",
   "execution_count": 4,
   "id": "afad038c-ccf2-407f-a929-4ca09b85d2da",
   "metadata": {},
   "outputs": [
    {
     "name": "stdout",
     "output_type": "stream",
     "text": [
      "+--+--+--+--+--+\n",
      "| 5|12|13| 9| 1|\n",
      "+--+--+--+--+--+\n",
      "| 4| 3| 6|11|11|\n",
      "+--+--+--+--+--+\n",
      "| 4|10| 8| 9| 4|\n",
      "+--+--+--+--+--+\n",
      "| 2| 2|13| 8| 2|\n",
      "+--+--+--+--+--+\n",
      "|10| 9|10| 1|12|\n",
      "+--+--+--+--+--+\n"
     ]
    }
   ],
   "source": [
    "best_player_idx = results.index(max(results))\n",
    "best_player = players[best_player_idx]\n",
    "print(best_player.board)"
   ]
  },
  {
   "cell_type": "markdown",
   "id": "6715ee5b-3a57-446d-b9d1-c4b495ceb680",
   "metadata": {},
   "source": [
    "Class `Mathematico` plays only one game, to simulate multiple games, use class `Arena`."
   ]
  },
  {
   "cell_type": "code",
   "execution_count": 5,
   "id": "1471df03-6e1e-48d9-9059-42b2e3c73969",
   "metadata": {},
   "outputs": [
    {
     "data": {
      "text/plain": [
       "[240]"
      ]
     },
     "execution_count": 5,
     "metadata": {},
     "output_type": "execute_result"
    }
   ],
   "source": [
    "game = Mathematico()\n",
    "player = SimulationPlayer(max_time=5e4, max_simulations=None)\n",
    "game.add_player(player)\n",
    "game.play()"
   ]
  },
  {
   "cell_type": "code",
   "execution_count": 6,
   "id": "e64ac59d-afc5-4377-a947-f3949f4d1286",
   "metadata": {},
   "outputs": [
    {
     "name": "stdout",
     "output_type": "stream",
     "text": [
      "Steps run: 5\tElapsed time: 9.132042646408081\n"
     ]
    }
   ],
   "source": [
    "arena = Arena()\n",
    "for seed in (0, 5, 42, 43, 69, 420):\n",
    "    arena.add_player(RandomPlayer(seed))\n",
    "arena.add_player(SimulationPlayer(max_time=5e4, max_simulations=None))\n",
    "    \n",
    "results = arena.run(steps=5, seed=0, verbose=True)"
   ]
  },
  {
   "cell_type": "markdown",
   "id": "47ac2aaf-20d7-4ac0-bd58-bea30405b987",
   "metadata": {},
   "source": [
    "The results is a 2d array with scores for each player."
   ]
  },
  {
   "cell_type": "code",
   "execution_count": 7,
   "id": "9e04b8d2-ee60-4c88-a1b6-f7b6164e8b2b",
   "metadata": {},
   "outputs": [
    {
     "name": "stdout",
     "output_type": "stream",
     "text": [
      "84 96 112 74 78 92 226\n"
     ]
    }
   ],
   "source": [
    "from statistics import mean\n",
    "\n",
    "# average random player scores\n",
    "print(*map(mean, results))"
   ]
  },
  {
   "cell_type": "markdown",
   "id": "bd9d8d0e-f901-49c5-afb6-ced5adb6973c",
   "metadata": {
    "tags": []
   },
   "source": [
    "## Interactive game"
   ]
  },
  {
   "cell_type": "markdown",
   "id": "25967904-012d-45f1-be7a-cd6933d3a91b",
   "metadata": {},
   "source": [
    "To play game interactively, via command line, use `HumanPlayer`:"
   ]
  },
  {
   "cell_type": "code",
   "execution_count": null,
   "id": "6fafc7dc-486d-4776-8694-f210ed02a799",
   "metadata": {
    "tags": []
   },
   "outputs": [],
   "source": [
    "human = HumanPlayer()\n",
    "game = Mathematico()\n",
    "game.add_player(human)\n",
    "game.play()"
   ]
  },
  {
   "cell_type": "markdown",
   "id": "166e430c-7ef9-4d7d-9977-fe1c473014bb",
   "metadata": {},
   "source": [
    "### Using `ipywidgets`"
   ]
  },
  {
   "cell_type": "markdown",
   "id": "df4a8144-0835-4337-82ed-28a4e7ce426e",
   "metadata": {},
   "source": [
    "Alternative is playing using IPython gui elements."
   ]
  },
  {
   "cell_type": "markdown",
   "id": "42da762b-b741-4706-913a-955f0228f6bf",
   "metadata": {},
   "source": [
    "#### Definition of interactive game"
   ]
  },
  {
   "cell_type": "code",
   "execution_count": 8,
   "id": "433eb3d2-571b-4baf-88ea-9ed2b747e93a",
   "metadata": {
    "tags": []
   },
   "outputs": [],
   "source": [
    "import ipywidgets as widgets\n",
    "\n",
    "\n",
    "class IMathematico: \n",
    "    \"\"\"Enable playing the game by clicking the buttons.\"\"\"\n",
    "    \n",
    "    def set_card_text(self, card_text):\n",
    "        self.card.value = f\"<em style='font-size:20px; padding-left:3em;'>{card_text}</em>\"\n",
    "    \n",
    "    def create_cell(self, row: int, col: int):\n",
    "        description = \"\" if self.board.is_empty(row, col) else self.board.at(row, col)\n",
    "        btn = widgets.Button(\n",
    "            description=description,\n",
    "            disabled=bool(description)\n",
    "        )\n",
    "        btn.layout = widgets.Layout(width=\"80px\", height=\"80px\", border=\"1px solid black\")\n",
    "        btn.game_position = (row, col)\n",
    "        return btn\n",
    "    \n",
    "    def create_board_widget(self):\n",
    "        items = []\n",
    "        for row in range(self.board.size):\n",
    "            for col in range(self.board.size):\n",
    "                cell = self.create_cell(row, col)\n",
    "                cell.on_click(self.handle_click)\n",
    "                items.append(cell)\n",
    "        return widgets.GridBox(\n",
    "            items, \n",
    "            layout=widgets.Layout(grid_template_columns=\"repeat(5, auto)\")\n",
    "        )\n",
    "    \n",
    "    def __init__(self, seed=None):\n",
    "        self.game = Mathematico(seed)\n",
    "        self.board = Board()\n",
    "        self.current_card = self.game.next_card()\n",
    "        self.card = widgets.HTML(font_size=15) \n",
    "        self.set_card_text(f\"Next card: {self.current_card}\")\n",
    "        self.widg = widgets.HBox([\n",
    "            self.create_board_widget(),\n",
    "            self.card\n",
    "        ]) \n",
    "        \n",
    "    def run(self):\n",
    "        return self.widg\n",
    "    \n",
    "    def handle_click(self, x):\n",
    "        row, col = x.game_position\n",
    "        x.disabled = True\n",
    "        x.description = str(self.current_card)\n",
    "        self.board.make_move((row, col), self.current_card)\n",
    "        self.current_card = self.game.next_card()\n",
    "        self.set_card_text(f\"Next card: {self.current_card}\")\n",
    "        \n",
    "        if self.board.occupied_cells == self.board.size ** 2:\n",
    "            self.set_card_text(f\"Game ended, score: {self.board.score()}\")"
   ]
  },
  {
   "cell_type": "markdown",
   "id": "4b378c63-7522-4c49-8f6b-0fb04d2eeada",
   "metadata": {},
   "source": [
    "#### Game play"
   ]
  },
  {
   "cell_type": "code",
   "execution_count": 9,
   "id": "ea922f10-91fc-4e4b-a0ec-44dcd6cb1961",
   "metadata": {},
   "outputs": [
    {
     "data": {
      "application/vnd.jupyter.widget-view+json": {
       "model_id": "8e5e2189868943a6aac24f223cc742a0",
       "version_major": 2,
       "version_minor": 0
      },
      "text/plain": [
       "HBox(children=(GridBox(children=(Button(layout=Layout(border='1px solid black', height='80px', width='80px'), …"
      ]
     },
     "metadata": {},
     "output_type": "display_data"
    }
   ],
   "source": [
    "game = IMathematico()\n",
    "game.run()"
   ]
  },
  {
   "cell_type": "code",
   "execution_count": null,
   "id": "f05e938a-87de-48ab-afcf-9631f7aad11d",
   "metadata": {},
   "outputs": [],
   "source": []
  }
 ],
 "metadata": {
  "kernelspec": {
   "display_name": "Python 3 (ipykernel)",
   "language": "python",
   "name": "python3"
  },
  "language_info": {
   "codemirror_mode": {
    "name": "ipython",
    "version": 3
   },
   "file_extension": ".py",
   "mimetype": "text/x-python",
   "name": "python",
   "nbconvert_exporter": "python",
   "pygments_lexer": "ipython3",
   "version": "3.7.9"
  }
 },
 "nbformat": 4,
 "nbformat_minor": 5
}
